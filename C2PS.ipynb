{
  "nbformat": 4,
  "nbformat_minor": 0,
  "metadata": {
    "colab": {
      "provenance": []
    },
    "kernelspec": {
      "name": "python3",
      "display_name": "Python 3"
    },
    "language_info": {
      "name": "python"
    }
  },
  "cells": [
    {
      "cell_type": "code",
      "execution_count": null,
      "metadata": {
        "id": "QxNOtXqrUpWQ"
      },
      "outputs": [],
      "source": [
        "!pip install transformers\n",
        "import torch\n",
        "from torch.utils.data import Dataset, DataLoader, random_split, SubsetRandomSampler\n",
        "from transformers import Trainer, AutoTokenizer, AutoModel, AutoConfig\n",
        "from sklearn.model_selection import KFold"
      ]
    },
    {
      "cell_type": "code",
      "source": [
        "device = torch.device(\"cuda\") if torch.cuda.is_available() else torch.device(\"cpu\")"
      ],
      "metadata": {
        "id": "RxKIjUbIiEyo"
      },
      "execution_count": 9,
      "outputs": []
    },
    {
      "cell_type": "markdown",
      "source": [
        "cpp bert의 last hidden state size: torch.Size([1, 7, 768])\n",
        "gpt의 input size: [1, n]"
      ],
      "metadata": {
        "id": "ut6sk-b-o_GN"
      }
    },
    {
      "cell_type": "code",
      "source": [
        "class CppDataset(Dataset):\n",
        "  def __init__(self):\n",
        "    # initializing - read text\n",
        "    self.x = ##\n",
        "    self.y = ##\n",
        "\n",
        "  def __getitem__(self, index):\n",
        "    inputs = ##\n",
        "    targets = ##\n",
        "\n",
        "    return inputs, targets\n",
        "\n",
        "# tokenizing code\n",
        "def tokenize_code(code):\n",
        "  tokenizer = ## load pretrained tokenizer\n",
        "  tokenized_code = []\n",
        "\n",
        "  return tokenized_code"
      ],
      "metadata": {
        "id": "N9PE2XG_ipWw"
      },
      "execution_count": null,
      "outputs": []
    },
    {
      "cell_type": "code",
      "source": [
        "class C2PSClass(torch.nn.Module):\n",
        "  def __init__(self):\n",
        "    super().__init__()\n",
        "    self.encoder = ## load cpp bert\n",
        "    self.decoder = ## load gpt\n",
        "    self.pooling = ## pooling layer (min or max)\n",
        "\n",
        "  def forward(self, inputs):\n",
        "    outputs = ##\n",
        "    return outputs"
      ],
      "metadata": {
        "id": "m5y83DWBkJjD"
      },
      "execution_count": null,
      "outputs": []
    }
  ]
}